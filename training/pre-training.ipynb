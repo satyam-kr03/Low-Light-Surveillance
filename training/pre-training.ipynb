{
 "cells": [
  {
   "cell_type": "code",
   "execution_count": 13,
   "metadata": {},
   "outputs": [],
   "source": [
    "# In this notebook, we will pre-train YOLOv7 on the MS COCO dataset to obtain the initial weights, and initialization of our model utilizing the pretrained weights as a starting point. \n",
    "\n",
    "# !cd ../yolov7 \n",
    "# !python train.py --workers 8 --device 0 --batch-size 32 --data data/coco.yaml --img 640 640 --cfg cfg/training/yolov7.yaml --weights '' --name yolov7 --hyp data/hyp.scratch.p5.yaml\n",
    "\n",
    "# the training takes >40 GB of GPU VRAM\n",
    "# the weights are saved in the folder yolov7/runs/train/yolov7/weights"
   ]
  },
  {
   "cell_type": "code",
   "execution_count": 14,
   "metadata": {},
   "outputs": [],
   "source": [
    "import torch"
   ]
  },
  {
   "cell_type": "code",
   "execution_count": 15,
   "metadata": {},
   "outputs": [
    {
     "name": "stdout",
     "output_type": "stream",
     "text": [
      "cuda\n"
     ]
    }
   ],
   "source": [
    "# check if CUDA is available\n",
    "device = torch.device('cuda' if torch.cuda.is_available() else 'cpu')\n",
    "print(device)"
   ]
  },
  {
   "cell_type": "code",
   "execution_count": 16,
   "metadata": {},
   "outputs": [],
   "source": [
    "# I have saved the pretrained weights in ./pretrained-weights/best.pt\n",
    "# I will use these weights to initialize the model"
   ]
  },
  {
   "cell_type": "code",
   "execution_count": 17,
   "metadata": {},
   "outputs": [],
   "source": [
    "from models.experimental import attempt_load\n",
    "\n",
    "# Path to the YOLOv7 weights file\n",
    "weights_path = './pretrained-weights/best.pt'\n",
    "\n",
    "model = torch.load(weights_path, map_location=torch.device('cuda' if torch.cuda.is_available() else 'cpu'), weights_only=False)"
   ]
  },
  {
   "cell_type": "code",
   "execution_count": null,
   "metadata": {},
   "outputs": [],
   "source": []
  }
 ],
 "metadata": {
  "kernelspec": {
   "display_name": "x",
   "language": "python",
   "name": "python3"
  },
  "language_info": {
   "codemirror_mode": {
    "name": "ipython",
    "version": 3
   },
   "file_extension": ".py",
   "mimetype": "text/x-python",
   "name": "python",
   "nbconvert_exporter": "python",
   "pygments_lexer": "ipython3",
   "version": "3.11.11"
  }
 },
 "nbformat": 4,
 "nbformat_minor": 2
}
